{
 "cells": [
  {
   "cell_type": "code",
   "execution_count": 6,
   "id": "3951fc73-5f85-4f50-8363-d3385ace027a",
   "metadata": {},
   "outputs": [
    {
     "name": "stdout",
     "output_type": "stream",
     "text": [
      "[(-8, -5), (-7, -4), (-6, -4), (-5, -3), (-4, -2), (-3, -1), (-2, -1), (-1, 0), (0, 1), (1, 2), (2, 2), (3, 3), (4, 4), (5, 5), (6, 5), (7, 6)]\n"
     ]
    }
   ],
   "source": [
    ":dep plotters\n",
    "\n",
    "use plotters::prelude::*;\n",
    "\n",
    "fn bresenham_line(x0: i32, y0: i32, x1: i32, y1: i32) -> Vec<(i32, i32)> {\n",
    "    let mut points = Vec::new();\n",
    "    let (mut x, mut y) = (x0, y0);\n",
    "    let dx = (x1 - x0).abs();\n",
    "    let dy = -(y1 - y0).abs();\n",
    "    let sx = if x0 < x1 { 1 } else { -1 };\n",
    "    let sy = if y0 < y1 { 1 } else { -1 };\n",
    "    let mut err = dx + dy;\n",
    "\n",
    "    while x != x1 || y != y1 {\n",
    "        points.push((x, y));\n",
    "        let e2 = 2 * err;\n",
    "        if e2 >= dy {\n",
    "            err += dy;\n",
    "            x += sx;\n",
    "        }\n",
    "        if e2 <= dx {\n",
    "            err += dx;\n",
    "            y += sy;\n",
    "        }\n",
    "    }\n",
    "    points.push((x1, y1));\n",
    "    println!(\"{:?}\", points);\n",
    "    points\n",
    "}\n",
    "\n",
    "fn draw_line_with_plotters(points: &Vec<(i32, i32)>, output_file: &str) -> Result<(), Box<dyn std::error::Error>> {\n",
    "    let root = BitMapBackend::new(output_file, (400, 400)).into_drawing_area();\n",
    "    root.fill(&WHITE)?;\n",
    "\n",
    "    let mut chart = ChartBuilder::on(&root)\n",
    "        .margin(20)\n",
    "        .caption(\"Bresenham's Line Algorithm\", (\"sans-serif\", 30))\n",
    "        .build_cartesian_2d(-10..10, -10..10)?;\n",
    "\n",
    "    chart.configure_mesh().draw()?;\n",
    "\n",
    "    // Draw pixels as small filled rectangles\n",
    "    for &(x, y) in points {\n",
    "        chart.draw_series(std::iter::once(Rectangle::new(\n",
    "            [(x, y), (x + 1, y + 1)],  // Draw a 1x1 rectangle\n",
    "            BLACK.filled(),\n",
    "        )))?;\n",
    "    }\n",
    "\n",
    "    root.present()?;\n",
    "    Ok(())\n",
    "}\n",
    "\n",
    "// Generate line points and plot the line\n",
    "let points: Vec<(i32,i32)> = bresenham_line(-8, -5, 7, 6);\n",
    "draw_line_with_plotters(&points, \"bresenham_line.png\").unwrap();\n",
    "\n"
   ]
  }
 ],
 "metadata": {
  "kernelspec": {
   "display_name": "Rust",
   "language": "rust",
   "name": "rust"
  },
  "language_info": {
   "codemirror_mode": "rust",
   "file_extension": ".rs",
   "mimetype": "text/rust",
   "name": "Rust",
   "pygment_lexer": "rust",
   "version": ""
  }
 },
 "nbformat": 4,
 "nbformat_minor": 5
}
